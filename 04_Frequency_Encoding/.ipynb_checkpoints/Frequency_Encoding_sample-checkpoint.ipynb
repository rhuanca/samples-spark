{
 "cells": [
  {
   "cell_type": "markdown",
   "metadata": {
    "ExecuteTime": {
     "end_time": "2020-10-02T13:23:01.581538Z",
     "start_time": "2020-10-02T13:22:51.766280Z"
    }
   },
   "source": [
    "# Overview\n",
    "We are going to build a sample decision tree algorithm on Bank Data available https://www.kaggle.com/rouseguy/bankbalanced\n",
    "The purpose will to predict if client client will will subscribe or not to a term deposit \n",
    "\n",
    "# Description of Data\n",
    "\n",
    "## Input variables:\n",
    "### bank client data:\n",
    "1. age (numeric)\n",
    "2. job : type of job (categorical: 'admin.','blue-collar','entrepreneur','housemaid','management','retired','self-employed','services','student','technician','unemployed','unknown')\n",
    "3. marital : marital status (categorical: 'divorced','married','single','unknown'; note: 'divorced' means divorced or widowed)\n",
    "4. education (categorical: 'basic.4y','basic.6y','basic.9y','high.school','illiterate','professional.course','university.degree','unknown')\n",
    "5. default: has credit in default? (categorical: 'no','yes','unknown')\n",
    "6. housing: has housing loan? (categorical: 'no','yes','unknown')\n",
    "7. loan: has personal loan? (categorical: 'no','yes','unknown')\n",
    "\n",
    "### related with the last contact of the current campaign:\n",
    "8. contact: contact communication type (categorical: 'cellular','telephone')\n",
    "9. month: last contact month of year (categorical: 'jan', 'feb', 'mar', ..., 'nov', 'dec')\n",
    "10. day_of_week: last contact day of the week (categorical: 'mon','tue','wed','thu','fri')\n",
    "11. duration: last contact duration, in seconds (numeric). Important note: this attribute highly affects the output target (e.g., if duration=0 then y='no'). Yet, the duration is not known before a call is performed. Also, after the end of the call y is obviously known. Thus, this input should only be included for benchmark purposes and should be discarded if the intention is to have a \n",
    "realistic predictive model.\n",
    "\n",
    "### other attributes:\n",
    "12. campaign: number of contacts performed during this campaign and for this client (numeric, includes last contact)\n",
    "13. pdays: number of days that passed by after the client was last contacted from a previous campaign (numeric; 999 means client was not previously contacted)\n",
    "14. previous: number of contacts performed before this campaign and for this client (numeric)\n",
    "15. poutcome: outcome of the previous marketing campaign (categorical: 'failure','nonexistent','success')\n",
    "\n",
    "### social and economic context attributes\n",
    "16. emp.var.rate: employment variation rate - quarterly indicator (numeric)\n",
    "17. cons.price.idx: consumer price index - monthly indicator (numeric)\n",
    "18. cons.conf.idx: consumer confidence index - monthly indicator (numeric)\n",
    "19. euribor3m: euribor 3 month rate - daily indicator (numeric)\n",
    "20. nr.employed: number of employees - quarterly indicator (numeric)\n",
    "\n",
    "Output variable (desired target):\n",
    "21. y - has the client subscribed a term deposit? (binary: 'yes','no')"
   ]
  },
  {
   "cell_type": "code",
   "execution_count": 2,
   "metadata": {
    "ExecuteTime": {
     "end_time": "2020-10-02T13:23:13.102425Z",
     "start_time": "2020-10-02T13:23:12.836305Z"
    }
   },
   "outputs": [
    {
     "data": {
      "text/plain": [
       "init: Int = 1\n"
      ]
     },
     "execution_count": 2,
     "metadata": {},
     "output_type": "execute_result"
    }
   ],
   "source": [
    "val init = 1"
   ]
  },
  {
   "cell_type": "markdown",
   "metadata": {},
   "source": [
    "# Load Data"
   ]
  },
  {
   "cell_type": "code",
   "execution_count": 4,
   "metadata": {
    "ExecuteTime": {
     "end_time": "2020-10-02T13:25:37.415270Z",
     "start_time": "2020-10-02T13:25:33.630198Z"
    }
   },
   "outputs": [
    {
     "data": {
      "text/plain": [
       "data: org.apache.spark.sql.DataFrame = [age: string, job: string ... 15 more fields]\n"
      ]
     },
     "execution_count": 4,
     "metadata": {},
     "output_type": "execute_result"
    }
   ],
   "source": [
    "val data = spark.read.format(\"csv\").option(\"header\",\"true\").load(\"bank.csv\")"
   ]
  },
  {
   "cell_type": "code",
   "execution_count": 5,
   "metadata": {
    "ExecuteTime": {
     "end_time": "2020-10-02T13:26:21.240567Z",
     "start_time": "2020-10-02T13:26:20.922127Z"
    }
   },
   "outputs": [
    {
     "name": "stdout",
     "output_type": "stream",
     "text": [
      "root\n",
      " |-- age: string (nullable = true)\n",
      " |-- job: string (nullable = true)\n",
      " |-- marital: string (nullable = true)\n",
      " |-- education: string (nullable = true)\n",
      " |-- default: string (nullable = true)\n",
      " |-- balance: string (nullable = true)\n",
      " |-- housing: string (nullable = true)\n",
      " |-- loan: string (nullable = true)\n",
      " |-- contact: string (nullable = true)\n",
      " |-- day: string (nullable = true)\n",
      " |-- month: string (nullable = true)\n",
      " |-- duration: string (nullable = true)\n",
      " |-- campaign: string (nullable = true)\n",
      " |-- pdays: string (nullable = true)\n",
      " |-- previous: string (nullable = true)\n",
      " |-- poutcome: string (nullable = true)\n",
      " |-- deposit: string (nullable = true)\n",
      "\n"
     ]
    }
   ],
   "source": [
    "data.printSchema"
   ]
  },
  {
   "cell_type": "code",
   "execution_count": 7,
   "metadata": {
    "ExecuteTime": {
     "end_time": "2020-10-02T13:31:49.007308Z",
     "start_time": "2020-10-02T13:31:48.556094Z"
    }
   },
   "outputs": [
    {
     "name": "stdout",
     "output_type": "stream",
     "text": [
      "+---+----------+--------+---------+-------+-------+-------+----+-------+---+-----+--------+--------+-----+--------+--------+-------+\n",
      "|age|       job| marital|education|default|balance|housing|loan|contact|day|month|duration|campaign|pdays|previous|poutcome|deposit|\n",
      "+---+----------+--------+---------+-------+-------+-------+----+-------+---+-----+--------+--------+-----+--------+--------+-------+\n",
      "| 59|    admin.| married|secondary|     no|   2343|    yes|  no|unknown|  5|  may|    1042|       1|   -1|       0| unknown|    yes|\n",
      "| 56|    admin.| married|secondary|     no|     45|     no|  no|unknown|  5|  may|    1467|       1|   -1|       0| unknown|    yes|\n",
      "| 41|technician| married|secondary|     no|   1270|    yes|  no|unknown|  5|  may|    1389|       1|   -1|       0| unknown|    yes|\n",
      "| 55|  services| married|secondary|     no|   2476|    yes|  no|unknown|  5|  may|     579|       1|   -1|       0| unknown|    yes|\n",
      "| 54|    admin.| married| tertiary|     no|    184|     no|  no|unknown|  5|  may|     673|       2|   -1|       0| unknown|    yes|\n",
      "| 42|management|  single| tertiary|     no|      0|    yes| yes|unknown|  5|  may|     562|       2|   -1|       0| unknown|    yes|\n",
      "| 56|management| married| tertiary|     no|    830|    yes| yes|unknown|  6|  may|    1201|       1|   -1|       0| unknown|    yes|\n",
      "| 60|   retired|divorced|secondary|     no|    545|    yes|  no|unknown|  6|  may|    1030|       1|   -1|       0| unknown|    yes|\n",
      "| 37|technician| married|secondary|     no|      1|    yes|  no|unknown|  6|  may|     608|       1|   -1|       0| unknown|    yes|\n",
      "| 28|  services|  single|secondary|     no|   5090|    yes|  no|unknown|  6|  may|    1297|       3|   -1|       0| unknown|    yes|\n",
      "+---+----------+--------+---------+-------+-------+-------+----+-------+---+-----+--------+--------+-----+--------+--------+-------+\n",
      "only showing top 10 rows\n",
      "\n"
     ]
    }
   ],
   "source": [
    "data.show(10)"
   ]
  },
  {
   "cell_type": "code",
   "execution_count": 9,
   "metadata": {
    "ExecuteTime": {
     "end_time": "2020-10-02T13:37:17.365147Z",
     "start_time": "2020-10-02T13:37:17.134205Z"
    }
   },
   "outputs": [],
   "source": [
    "data.createOrReplaceTempView(\"data\")"
   ]
  },
  {
   "cell_type": "markdown",
   "metadata": {},
   "source": [
    "# Exploratory Analysis\n",
    "In the next cells we are going to switch between scala and python. Usually python wil be used data plotting."
   ]
  },
  {
   "cell_type": "code",
   "execution_count": 33,
   "metadata": {
    "ExecuteTime": {
     "end_time": "2020-10-02T14:02:37.804802Z",
     "start_time": "2020-10-02T14:02:37.357096Z"
    }
   },
   "outputs": [
    {
     "name": "stdout",
     "output_type": "stream",
     "text": [
      "  age         job  marital  education default balance housing loan  contact day month duration campaign pdays previous poutcome deposit\n",
      "0  59      admin.  married  secondary      no    2343     yes   no  unknown   5   may     1042        1    -1        0  unknown     yes\n",
      "1  56      admin.  married  secondary      no      45      no   no  unknown   5   may     1467        1    -1        0  unknown     yes\n",
      "2  41  technician  married  secondary      no    1270     yes   no  unknown   5   may     1389        1    -1        0  unknown     yes\n",
      "3  55    services  married  secondary      no    2476     yes   no  unknown   5   may      579        1    -1        0  unknown     yes\n",
      "4  54      admin.  married   tertiary      no     184      no   no  unknown   5   may      673        2    -1        0  unknown     yes\n"
     ]
    }
   ],
   "source": [
    "%%python\n",
    "import databricks.koalas as ks\n",
    "import tempfile\n",
    "import seaborn as sns\n",
    "from matplotlib import pyplot as plt\n",
    "from IPython.display import Image\n",
    "\n",
    "ks.set_option(\"plotting.max_rows\", 1000000)\n",
    "data = spark.sql(\"select * from data\").to_koalas()\n",
    "print(data.head(5))"
   ]
  },
  {
   "cell_type": "code",
   "execution_count": 10,
   "metadata": {
    "ExecuteTime": {
     "end_time": "2020-10-02T13:38:06.577088Z",
     "start_time": "2020-10-02T13:38:05.702640Z"
    }
   },
   "outputs": [
    {
     "name": "stdout",
     "output_type": "stream",
     "text": [
      "+-------+------------------+------------------+------------------+\n",
      "|summary|               age|           balance|          duration|\n",
      "+-------+------------------+------------------+------------------+\n",
      "|  count|             11162|             11162|             11162|\n",
      "|   mean|41.231947679627304|1528.5385235620856|371.99381831213043|\n",
      "| stddev|11.913369192215518| 3225.413325946149|347.12838571630687|\n",
      "|    min|                18|                -1|                10|\n",
      "|    25%|              32.0|             122.0|             138.0|\n",
      "|    50%|              39.0|             550.0|             255.0|\n",
      "|    75%|              49.0|            1708.0|             496.0|\n",
      "|    max|                95|              9994|               999|\n",
      "+-------+------------------+------------------+------------------+\n",
      "\n"
     ]
    }
   ],
   "source": [
    "data.select(\"age\",\"balance\",\"duration\").summary().show()"
   ]
  },
  {
   "cell_type": "code",
   "execution_count": 39,
   "metadata": {
    "ExecuteTime": {
     "end_time": "2020-10-02T14:04:20.281685Z",
     "start_time": "2020-10-02T14:04:19.762226Z"
    }
   },
   "outputs": [
    {
     "name": "stdout",
     "output_type": "stream",
     "text": [
      "+-------------+-----+----------+\n",
      "|          job|count|percentage|\n",
      "+-------------+-----+----------+\n",
      "|   management| 2566|     22.99|\n",
      "|      retired|  778|      6.97|\n",
      "|      unknown|   70|      0.63|\n",
      "|self-employed|  405|      3.63|\n",
      "|      student|  360|      3.23|\n",
      "|  blue-collar| 1944|     17.42|\n",
      "| entrepreneur|  328|      2.94|\n",
      "|       admin.| 1334|     11.95|\n",
      "|   technician| 1823|     16.33|\n",
      "|     services|  923|      8.27|\n",
      "|    housemaid|  274|      2.45|\n",
      "|   unemployed|  357|       3.2|\n",
      "+-------------+-----+----------+\n",
      "\n"
     ]
    },
    {
     "data": {
      "text/plain": [
       "job_summary: org.apache.spark.sql.DataFrame = [job: string, count: bigint ... 1 more field]\n"
      ]
     },
     "execution_count": 39,
     "metadata": {},
     "output_type": "execute_result"
    }
   ],
   "source": [
    "val job_summary = data.groupBy(\"job\").count()\n",
    "    .withColumn(\"percentage\", round(col(\"count\") * 100 /  sum(\"count\").over(),2))\n",
    "\n",
    "job_summary.createOrReplaceTempView(\"job_summary\")\n",
    "job_summary.show()"
   ]
  },
  {
   "cell_type": "code",
   "execution_count": 37,
   "metadata": {
    "ExecuteTime": {
     "end_time": "2020-10-02T14:03:03.926132Z",
     "start_time": "2020-10-02T14:03:03.905028Z"
    }
   },
   "outputs": [
    {
     "ename": "SyntaxError",
     "evalue": "('invalid syntax', ('python cell', 1, 2, \"// plt.rcParams['figure.figsize'] = [8, 5]\\n\"))",
     "output_type": "error",
     "traceback": [
      "SyntaxError: invalid syntax (python cell, line 1)"
     ]
    }
   ],
   "source": [
    "%%python\n",
    "\n",
    "plt.rcParams['figure.figsize'] = [8, 5]\n",
    "\n",
    "job_summary = spark.table(\"job_summary\")\n",
    "\n",
    "\n",
    "\n",
    "#  data.plot(\"job\")\n",
    "\n",
    "#  with tempfile.NamedTemporaryFile(suffix=\".png\") as fo:\n",
    "#      plt.savefig(fo.name)\n",
    "#      retval = Image(filename=fo.name)"
   ]
  },
  {
   "cell_type": "code",
   "execution_count": 6,
   "metadata": {
    "ExecuteTime": {
     "end_time": "2020-10-02T13:26:55.874228Z",
     "start_time": "2020-10-02T13:26:55.412340Z"
    }
   },
   "outputs": [],
   "source": []
  },
  {
   "cell_type": "code",
   "execution_count": null,
   "metadata": {},
   "outputs": [],
   "source": [
    "%python\n",
    "import databricks.koalas as ks\n",
    "import tempfile\n",
    "import seaborn as sns\n",
    "from matplotlib import pyplot as plt\n",
    "from IPython.display import Image\n"
   ]
  }
 ],
 "metadata": {
  "kernelspec": {
   "display_name": "spylon-kernel",
   "language": "scala",
   "name": "spylon-kernel"
  },
  "language_info": {
   "codemirror_mode": "text/x-scala",
   "file_extension": ".scala",
   "help_links": [
    {
     "text": "MetaKernel Magics",
     "url": "https://metakernel.readthedocs.io/en/latest/source/README.html"
    }
   ],
   "mimetype": "text/x-scala",
   "name": "scala",
   "pygments_lexer": "scala",
   "version": "0.4.1"
  },
  "varInspector": {
   "cols": {
    "lenName": 16,
    "lenType": 16,
    "lenVar": 40
   },
   "kernels_config": {
    "python": {
     "delete_cmd_postfix": "",
     "delete_cmd_prefix": "del ",
     "library": "var_list.py",
     "varRefreshCmd": "print(var_dic_list())"
    },
    "r": {
     "delete_cmd_postfix": ") ",
     "delete_cmd_prefix": "rm(",
     "library": "var_list.r",
     "varRefreshCmd": "cat(var_dic_list()) "
    }
   },
   "types_to_exclude": [
    "module",
    "function",
    "builtin_function_or_method",
    "instance",
    "_Feature"
   ],
   "window_display": false
  }
 },
 "nbformat": 4,
 "nbformat_minor": 4
}
