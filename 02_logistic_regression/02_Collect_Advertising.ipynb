{
 "cells": [
  {
   "cell_type": "code",
   "execution_count": 1,
   "metadata": {
    "ExecuteTime": {
     "end_time": "2020-09-18T15:45:56.880433Z",
     "start_time": "2020-09-18T15:45:47.940389Z"
    }
   },
   "outputs": [
    {
     "data": {
      "text/plain": [
       "Intitializing Scala interpreter ..."
      ]
     },
     "metadata": {},
     "output_type": "display_data"
    },
    {
     "data": {
      "text/plain": [
       "Spark Web UI available at http://192.168.2.10:4041\n",
       "SparkContext available as 'sc' (version = 3.0.0, master = local[*], app id = local-1600443950618)\n",
       "SparkSession available as 'spark'\n"
      ]
     },
     "metadata": {},
     "output_type": "display_data"
    }
   ],
   "source": [
    "sc.hadoopConfiguration.set(\"fs.s3n.awsAccessKeyId\",sys.env(\"AWS_ACCESS_KEY\"))\n",
    "sc.hadoopConfiguration.set(\"fs.s3n.awsSecretAccessKey\", sys.env(\"AWS_SECRET_KEY\"))"
   ]
  },
  {
   "cell_type": "code",
   "execution_count": 2,
   "metadata": {
    "ExecuteTime": {
     "end_time": "2020-09-18T15:52:45.178966Z",
     "start_time": "2020-09-18T15:52:44.707618Z"
    }
   },
   "outputs": [
    {
     "data": {
      "text/plain": [
       "import org.apache.spark.sql.types._\n",
       "import org.apache.spark.sql.functions._\n",
       "import org.apache.spark.sql.streaming._\n",
       "schema: org.apache.spark.sql.types.StructType = StructType(StructField(daily_time_spend,DoubleType,true), StructField(age,IntegerType,true), StructField(area_income,DoubleType,true), StructField(daily_internet_usage,DoubleType,true), StructField(ad_topic_line,StringType,true), StructField(city,StringType,true), StructField(male,DoubleType,true), StructField(country,StringType,true), StructField(timestamp,TimestampType,true), StructField(clicked,DoubleType,true))\n"
      ]
     },
     "execution_count": 2,
     "metadata": {},
     "output_type": "execute_result"
    }
   ],
   "source": [
    "import org.apache.spark.sql.types._\n",
    "import org.apache.spark.sql.functions._\n",
    "import org.apache.spark.sql.streaming._\n",
    "\n",
    "val schema = StructType(\n",
    "  Array(\n",
    "    StructField(\"daily_time_spend\", DoubleType, true),\n",
    "    StructField(\"age\", IntegerType, true),\n",
    "    StructField(\"area_income\", DoubleType, true),\n",
    "    StructField(\"daily_internet_usage\", DoubleType, true),\n",
    "    StructField(\"ad_topic_line\", StringType, true),\n",
    "    StructField(\"city\", StringType, true),\n",
    "    StructField(\"male\", DoubleType, true),\n",
    "    StructField(\"country\", StringType, true), \n",
    "    StructField(\"timestamp\", TimestampType, true),\n",
    "    StructField(\"clicked\", DoubleType, true) \n",
    "  )\n",
    ")"
   ]
  },
  {
   "cell_type": "code",
   "execution_count": 3,
   "metadata": {
    "ExecuteTime": {
     "end_time": "2020-09-18T15:52:56.542536Z",
     "start_time": "2020-09-18T15:52:47.698071Z"
    }
   },
   "outputs": [
    {
     "name": "stdout",
     "output_type": "stream",
     "text": [
      "+----------------+---+-----------+--------------------+--------------------+----------------+----+----------+-------------------+-------+\n",
      "|daily_time_spend|age|area_income|daily_internet_usage|       ad_topic_line|            city|male|   country|          timestamp|clicked|\n",
      "+----------------+---+-----------+--------------------+--------------------+----------------+----+----------+-------------------+-------+\n",
      "|           68.95| 35|    61833.9|              256.09|Cloned 5thgenerat...|     Wrightburgh| 0.0|   Tunisia|2016-03-27 00:53:11|    0.0|\n",
      "|           80.23| 31|   68441.85|              193.77|Monitored nationa...|       West Jodi| 1.0|     Nauru|2016-04-04 01:39:02|    0.0|\n",
      "|           69.47| 26|   59785.94|               236.5|Organic bottom-li...|        Davidton| 0.0|San Marino|2016-03-13 20:35:42|    0.0|\n",
      "|           74.15| 29|   54806.18|              245.89|Triple-buffered r...|  West Terrifurt| 1.0|     Italy|2016-01-10 02:31:19|    0.0|\n",
      "|           68.37| 35|   73889.99|              225.58|Robust logistical...|    South Manuel| 0.0|   Iceland|2016-06-03 03:36:18|    0.0|\n",
      "|           59.99| 23|   59761.56|              226.74|Sharable client-d...|       Jamieberg| 1.0|    Norway|2016-05-19 14:30:17|    0.0|\n",
      "|           88.91| 33|   53852.85|              208.36|Enhanced dedicate...|     Brandonstad| 0.0|   Myanmar|2016-01-28 20:59:32|    0.0|\n",
      "|            66.0| 48|   24593.33|              131.76|Reactive local ch...|Port Jefferybury| 1.0| Australia|2016-03-07 01:40:15|    1.0|\n",
      "|           74.53| 30|    68862.0|              221.51|Configurable cohe...|      West Colin| 1.0|   Grenada|2016-04-18 09:33:42|    0.0|\n",
      "|           69.88| 20|   55642.32|              183.82|Mandatory homogen...|      Ramirezton| 1.0|     Ghana|2016-07-11 01:42:51|    0.0|\n",
      "+----------------+---+-----------+--------------------+--------------------+----------------+----+----------+-------------------+-------+\n",
      "\n"
     ]
    }
   ],
   "source": [
    "// dataset source: https://www.kaggle.com/fayomi/advertising\n",
    "spark.read.format(\"csv\")\n",
    "    .schema(schema)\n",
    "    .load(\"s3n://renan-test/advertising/*.csv\")\n",
    "    .where($\"daily_time_spend\".isNotNull)\n",
    "    .limit(10).show()"
   ]
  },
  {
   "cell_type": "code",
   "execution_count": 9,
   "metadata": {
    "ExecuteTime": {
     "end_time": "2020-09-17T02:27:58.967699Z",
     "start_time": "2020-09-17T02:27:52.393011Z"
    }
   },
   "outputs": [
    {
     "data": {
      "text/plain": [
       "advertisingStream: org.apache.spark.sql.DataFrame = [key: string, value: string]\n"
      ]
     },
     "execution_count": 9,
     "metadata": {},
     "output_type": "execute_result"
    }
   ],
   "source": [
    "val advertisingStream =  spark.readStream.format(\"csv\")\n",
    "    .schema(schema)\n",
    "    .load(\"s3n://renan-test/advertising/*.csv\")\n",
    "    .where($\"daily_time_spend\".isNotNull)\n",
    "    .withColumn(\"value\",to_json(struct($\"daily_time_spend\",$\"age\",\n",
    "                                       $\"area_income\",$\"daily_internet_usage\",\n",
    "                                       $\"ad_topic_line\",$\"city\",$\"male\",$\"country\",\n",
    "                                       $\"timestamp\",$\"clicked\")))\n",
    "    .withColumn(\"key\",lit(\"\"))\n",
    "    .select(\"key\",\"value\")\n",
    "\n",
    "advertisingStream.writeStream\n",
    "    .format(\"kafka\")\n",
    "    .trigger(Trigger.Once())\n",
    "    .option(\"kafka.bootstrap.servers\", \"localhost:9092\")\n",
    "    .option(\"topic\", \"advertising\")\n",
    "    .option(\"checkpointLocation\", \"/home/rhuanca/demo/_checkpoints/advertising\")\n",
    "    .start()\n",
    "    .awaitTermination()"
   ]
  },
  {
   "cell_type": "code",
   "execution_count": null,
   "metadata": {},
   "outputs": [],
   "source": []
  }
 ],
 "metadata": {
  "kernelspec": {
   "display_name": "spylon-kernel",
   "language": "scala",
   "name": "spylon-kernel"
  },
  "language_info": {
   "codemirror_mode": "text/x-scala",
   "file_extension": ".scala",
   "help_links": [
    {
     "text": "MetaKernel Magics",
     "url": "https://metakernel.readthedocs.io/en/latest/source/README.html"
    }
   ],
   "mimetype": "text/x-scala",
   "name": "scala",
   "pygments_lexer": "scala",
   "version": "0.4.1"
  },
  "varInspector": {
   "cols": {
    "lenName": 16,
    "lenType": 16,
    "lenVar": 40
   },
   "kernels_config": {
    "python": {
     "delete_cmd_postfix": "",
     "delete_cmd_prefix": "del ",
     "library": "var_list.py",
     "varRefreshCmd": "print(var_dic_list())"
    },
    "r": {
     "delete_cmd_postfix": ") ",
     "delete_cmd_prefix": "rm(",
     "library": "var_list.r",
     "varRefreshCmd": "cat(var_dic_list()) "
    }
   },
   "types_to_exclude": [
    "module",
    "function",
    "builtin_function_or_method",
    "instance",
    "_Feature"
   ],
   "window_display": false
  }
 },
 "nbformat": 4,
 "nbformat_minor": 4
}
