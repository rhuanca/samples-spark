{
 "cells": [
  {
   "cell_type": "code",
   "execution_count": 1,
   "metadata": {
    "ExecuteTime": {
     "end_time": "2020-09-19T00:25:03.383374Z",
     "start_time": "2020-09-19T00:24:54.553688Z"
    }
   },
   "outputs": [
    {
     "data": {
      "text/plain": [
       "Intitializing Scala interpreter ..."
      ]
     },
     "metadata": {},
     "output_type": "display_data"
    },
    {
     "data": {
      "text/plain": [
       "Spark Web UI available at http://192.168.2.10:4040\n",
       "SparkContext available as 'sc' (version = 3.0.0, master = local[*], app id = local-1600475097359)\n",
       "SparkSession available as 'spark'\n"
      ]
     },
     "metadata": {},
     "output_type": "display_data"
    }
   ],
   "source": [
    "sc.hadoopConfiguration.set(\"fs.s3n.awsAccessKeyId\",sys.env(\"AWS_ACCESS_KEY\"))\n",
    "sc.hadoopConfiguration.set(\"fs.s3n.awsSecretAccessKey\", sys.env(\"AWS_SECRET_KEY\"))"
   ]
  },
  {
   "cell_type": "code",
   "execution_count": 2,
   "metadata": {
    "ExecuteTime": {
     "end_time": "2020-09-19T00:25:03.981675Z",
     "start_time": "2020-09-19T00:25:03.385341Z"
    }
   },
   "outputs": [
    {
     "data": {
      "text/plain": [
       "import org.apache.spark.sql.types._\n",
       "import org.apache.spark.sql.functions._\n",
       "schema: org.apache.spark.sql.types.StructType = StructType(StructField(ip,StringType,true), StructField(app,StringType,true), StructField(device,StringType,true), StructField(os,StringType,true), StructField(channel,StringType,true), StructField(click_time,StringType,true), StructField(attributed_time,StringType,true), StructField(is_attributed,StringType,true))\n"
      ]
     },
     "execution_count": 2,
     "metadata": {},
     "output_type": "execute_result"
    }
   ],
   "source": [
    "import org.apache.spark.sql.types._\n",
    "import org.apache.spark.sql.functions._\n",
    "\n",
    "val schema = StructType(\n",
    "  Array(\n",
    "    StructField(\"ip\", StringType, true),\n",
    "    StructField(\"app\", StringType, true),\n",
    "    StructField(\"device\", StringType, true),\n",
    "    StructField(\"os\", StringType, true),\n",
    "    StructField(\"channel\", StringType, true),\n",
    "    StructField(\"click_time\", StringType, true),\n",
    "    StructField(\"attributed_time\", StringType, true),\n",
    "    StructField(\"is_attributed\", StringType, true) \n",
    "  )\n",
    ")"
   ]
  },
  {
   "cell_type": "code",
   "execution_count": 3,
   "metadata": {
    "ExecuteTime": {
     "end_time": "2020-09-19T00:25:13.358315Z",
     "start_time": "2020-09-19T00:25:03.983689Z"
    }
   },
   "outputs": [
    {
     "name": "stdout",
     "output_type": "stream",
     "text": [
      "+------+---+------+---+-------+-------------------+-------------------+-------------+\n",
      "|    ip|app|device| os|channel|         click_time|    attributed_time|is_attributed|\n",
      "+------+---+------+---+-------+-------------------+-------------------+-------------+\n",
      "| 59882| 12|     1| 19|    424|2017-11-06 23:41:12|               null|            0|\n",
      "|212465| 20|     1| 13|    259|2017-11-06 23:41:13|               null|            0|\n",
      "| 55771|  1|     1| 19|    377|2017-11-06 23:41:13|               null|            0|\n",
      "| 27646|  3|     1| 13|    409|2017-11-06 23:41:13|               null|            0|\n",
      "|192030|  3|     1| 19|    442|2017-11-06 23:41:13|               null|            0|\n",
      "| 44552|  2|     1| 15|    401|2017-11-06 23:41:13|               null|            0|\n",
      "| 86607| 10|     1| 19|    113|2017-11-06 23:41:13|               null|            0|\n",
      "|140917|  9|     1| 19|    215|2017-11-06 23:41:13|2017-11-07 14:50:00|            1|\n",
      "|204577| 84|     0|607|    101|2017-11-06 23:41:14|2017-11-06 23:47:01|            1|\n",
      "| 11965| 15|     1| 13|    265|2017-11-06 23:41:14|               null|            0|\n",
      "+------+---+------+---+-------+-------------------+-------------------+-------------+\n",
      "\n"
     ]
    }
   ],
   "source": [
    "// data source: https://www.kaggle.com/matleonard/feature-engineering-data\n",
    "spark.read.format(\"csv\")\n",
    "    .schema(schema)\n",
    "    .load(\"s3n://renan-test/adtracking/*.csv\")\n",
    "    .limit(10).show()"
   ]
  },
  {
   "cell_type": "code",
   "execution_count": 4,
   "metadata": {
    "ExecuteTime": {
     "end_time": "2020-09-19T00:25:13.695030Z",
     "start_time": "2020-09-19T00:25:13.360081Z"
    }
   },
   "outputs": [],
   "source": [
    "// val trackingStream =  spark.readStream.format(\"csv\")\n",
    "//     .schema(schema)\n",
    "//     .load(\"s3n://renan-test/adtracking/*.csv\")\n",
    "//     .withColumn(\"value\",to_json(struct($\"ip\",$\"app\",$\"device\",$\"os\",$\"channel\",$\"click_time\",$\"attributed_time\",$\"is_attributed\")))\n",
    "//     .withColumn(\"key\",$\"app\")\n",
    "//     .select(\"key\",\"value\")\n",
    "\n",
    "// trackingStream.writeStream\n",
    "//     .format(\"kafka\")\n",
    "//     .option(\"kafka.bootstrap.servers\", \"localhost:9092\")\n",
    "//     .option(\"topic\", \"tracking\")\n",
    "//     .option(\"checkpointLocation\", \"/home/rhuanca/demo/_checkpoints/tracking\")\n",
    "//     .start()\n",
    "//     .awaitTermination()"
   ]
  }
 ],
 "metadata": {
  "kernelspec": {
   "display_name": "spylon-kernel",
   "language": "scala",
   "name": "spylon-kernel"
  },
  "language_info": {
   "codemirror_mode": "text/x-scala",
   "file_extension": ".scala",
   "help_links": [
    {
     "text": "MetaKernel Magics",
     "url": "https://metakernel.readthedocs.io/en/latest/source/README.html"
    }
   ],
   "mimetype": "text/x-scala",
   "name": "scala",
   "pygments_lexer": "scala",
   "version": "0.4.1"
  },
  "varInspector": {
   "cols": {
    "lenName": 16,
    "lenType": 16,
    "lenVar": 40
   },
   "kernels_config": {
    "python": {
     "delete_cmd_postfix": "",
     "delete_cmd_prefix": "del ",
     "library": "var_list.py",
     "varRefreshCmd": "print(var_dic_list())"
    },
    "r": {
     "delete_cmd_postfix": ") ",
     "delete_cmd_prefix": "rm(",
     "library": "var_list.r",
     "varRefreshCmd": "cat(var_dic_list()) "
    }
   },
   "types_to_exclude": [
    "module",
    "function",
    "builtin_function_or_method",
    "instance",
    "_Feature"
   ],
   "window_display": false
  }
 },
 "nbformat": 4,
 "nbformat_minor": 4
}
