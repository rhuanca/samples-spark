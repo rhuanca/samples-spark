{
 "cells": [
  {
   "cell_type": "code",
   "execution_count": 5,
   "metadata": {
    "ExecuteTime": {
     "end_time": "2020-09-19T04:16:40.960463Z",
     "start_time": "2020-09-19T04:16:40.671942Z"
    }
   },
   "outputs": [],
   "source": [
    "sc.hadoopConfiguration.set(\"fs.s3n.awsAccessKeyId\",sys.env(\"AWS_ACCESS_KEY\"))\n",
    "sc.hadoopConfiguration.set(\"fs.s3n.awsSecretAccessKey\", sys.env(\"AWS_SECRET_KEY\"))"
   ]
  },
  {
   "cell_type": "code",
   "execution_count": 6,
   "metadata": {
    "ExecuteTime": {
     "end_time": "2020-09-19T04:16:43.405350Z",
     "start_time": "2020-09-19T04:16:43.111833Z"
    }
   },
   "outputs": [
    {
     "data": {
      "text/plain": [
       "import org.apache.spark.sql.types._\n",
       "import org.apache.spark.sql.functions._\n",
       "schema: org.apache.spark.sql.types.StructType = StructType(StructField(ip,StringType,true), StructField(app,StringType,true), StructField(device,StringType,true), StructField(os,StringType,true), StructField(channel,StringType,true), StructField(click_time,StringType,true), StructField(attributed_time,StringType,true), StructField(is_attributed,StringType,true))\n"
      ]
     },
     "execution_count": 6,
     "metadata": {},
     "output_type": "execute_result"
    }
   ],
   "source": [
    "import org.apache.spark.sql.types._\n",
    "import org.apache.spark.sql.functions._\n",
    "\n",
    "val schema = StructType(\n",
    "  Array(\n",
    "    StructField(\"ip\", StringType, true),\n",
    "    StructField(\"app\", StringType, true),\n",
    "    StructField(\"device\", StringType, true),\n",
    "    StructField(\"os\", StringType, true),\n",
    "    StructField(\"channel\", StringType, true),\n",
    "    StructField(\"click_time\", StringType, true),\n",
    "    StructField(\"attributed_time\", StringType, true),\n",
    "    StructField(\"is_attributed\", StringType, true) \n",
    "  )\n",
    ")"
   ]
  },
  {
   "cell_type": "code",
   "execution_count": 7,
   "metadata": {
    "ExecuteTime": {
     "end_time": "2020-09-19T04:16:51.930245Z",
     "start_time": "2020-09-19T04:16:45.448443Z"
    }
   },
   "outputs": [
    {
     "name": "stdout",
     "output_type": "stream",
     "text": [
      "+------+---+------+---+-------+-------------------+-------------------+-------------+\n",
      "|    ip|app|device| os|channel|         click_time|    attributed_time|is_attributed|\n",
      "+------+---+------+---+-------+-------------------+-------------------+-------------+\n",
      "| 89489|  3|     1| 13|    379|2017-11-06 15:13:23|               null|            0|\n",
      "|204158| 35|     1| 13|     21|2017-11-06 15:41:07|2017-11-07 08:17:19|            1|\n",
      "|  3437|  6|     1| 13|    459|2017-11-06 15:42:32|               null|            0|\n",
      "|167543|  3|     1| 13|    379|2017-11-06 15:56:17|               null|            0|\n",
      "|147509|  3|     1| 13|    379|2017-11-06 15:57:01|               null|            0|\n",
      "| 71421| 15|     1| 13|    153|2017-11-06 16:00:00|               null|            0|\n",
      "| 76953| 14|     1| 13|    379|2017-11-06 16:00:01|               null|            0|\n",
      "|187909|  2|     1| 25|    477|2017-11-06 16:00:01|               null|            0|\n",
      "|116779|  1|     1|  8|    150|2017-11-06 16:00:01|               null|            0|\n",
      "| 47857|  3|     1| 15|    205|2017-11-06 16:00:01|               null|            0|\n",
      "+------+---+------+---+-------+-------------------+-------------------+-------------+\n",
      "\n"
     ]
    }
   ],
   "source": [
    "// data source: https://www.kaggle.com/matleonard/feature-engineering-data\n",
    "spark.read.format(\"csv\")\n",
    "    .schema(schema)\n",
    "    .load(\"s3n://renan-test/adtracking/*.csv\")\n",
    "    .limit(10).show()"
   ]
  },
  {
   "cell_type": "code",
   "execution_count": null,
   "metadata": {
    "ExecuteTime": {
     "start_time": "2020-09-19T04:19:24.059Z"
    }
   },
   "outputs": [],
   "source": [
    "val trackingStream =  spark.readStream.format(\"csv\")\n",
    "    .schema(schema)\n",
    "    .load(\"s3n://renan-test/adtracking/*.csv\")\n",
    "    .withColumn(\"value\",to_json(struct($\"ip\",$\"app\",$\"device\",$\"os\",$\"channel\",$\"click_time\",$\"attributed_time\",$\"is_attributed\")))\n",
    "    .withColumn(\"key\",$\"app\")\n",
    "    .select(\"key\",\"value\")\n",
    "\n",
    "trackingStream.writeStream\n",
    "    .format(\"kafka\")\n",
    "    .option(\"kafka.bootstrap.servers\", \"localhost:9092\")\n",
    "    .option(\"topic\", \"tracking\")\n",
    "    .option(\"checkpointLocation\", \"/home/rhuanca/demo/_checkpoints/tracking\")\n",
    "    .start()\n",
    "    .awaitTermination()"
   ]
  }
 ],
 "metadata": {
  "kernelspec": {
   "display_name": "spylon-kernel",
   "language": "scala",
   "name": "spylon-kernel"
  },
  "language_info": {
   "codemirror_mode": "text/x-scala",
   "file_extension": ".scala",
   "help_links": [
    {
     "text": "MetaKernel Magics",
     "url": "https://metakernel.readthedocs.io/en/latest/source/README.html"
    }
   ],
   "mimetype": "text/x-scala",
   "name": "scala",
   "pygments_lexer": "scala",
   "version": "0.4.1"
  },
  "varInspector": {
   "cols": {
    "lenName": 16,
    "lenType": 16,
    "lenVar": 40
   },
   "kernels_config": {
    "python": {
     "delete_cmd_postfix": "",
     "delete_cmd_prefix": "del ",
     "library": "var_list.py",
     "varRefreshCmd": "print(var_dic_list())"
    },
    "r": {
     "delete_cmd_postfix": ") ",
     "delete_cmd_prefix": "rm(",
     "library": "var_list.r",
     "varRefreshCmd": "cat(var_dic_list()) "
    }
   },
   "types_to_exclude": [
    "module",
    "function",
    "builtin_function_or_method",
    "instance",
    "_Feature"
   ],
   "window_display": false
  }
 },
 "nbformat": 4,
 "nbformat_minor": 4
}
