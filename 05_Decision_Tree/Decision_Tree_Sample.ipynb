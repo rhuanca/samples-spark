{
 "cells": [
  {
   "cell_type": "code",
   "execution_count": 1,
   "metadata": {
    "ExecuteTime": {
     "end_time": "2020-11-08T23:26:32.385944Z",
     "start_time": "2020-11-08T23:26:24.039205Z"
    }
   },
   "outputs": [
    {
     "data": {
      "text/plain": [
       "Intitializing Scala interpreter ..."
      ]
     },
     "metadata": {},
     "output_type": "display_data"
    },
    {
     "data": {
      "text/plain": [
       "Spark Web UI available at http://192.168.2.10:4040\n",
       "SparkContext available as 'sc' (version = 3.0.0, master = local[*], app id = local-1604877986701)\n",
       "SparkSession available as 'spark'\n"
      ]
     },
     "metadata": {},
     "output_type": "display_data"
    }
   ],
   "source": [
    "// Prequisites:\n",
    "// sudo apt-get install graphviz\n",
    "// pip install graphviz"
   ]
  },
  {
   "cell_type": "code",
   "execution_count": 2,
   "metadata": {
    "ExecuteTime": {
     "end_time": "2020-11-08T23:26:32.643192Z",
     "start_time": "2020-11-08T23:26:32.387999Z"
    }
   },
   "outputs": [
    {
     "data": {
      "text/plain": [
       "import org.apache.spark.sql.types._\n",
       "import org.apache.spark.sql.functions._\n",
       "import org.apache.spark.ml.feature._\n",
       "import org.apache.spark.ml.classification._\n",
       "import org.apache.spark.ml.Pipeline\n",
       "import org.apache.spark.ml.tuning._\n",
       "import org.apache.spark.ml.evaluation._\n",
       "import org.apache.spark.ml.linalg.Vector\n",
       "import org.apache.spark.sql.Row\n"
      ]
     },
     "execution_count": 2,
     "metadata": {},
     "output_type": "execute_result"
    }
   ],
   "source": [
    "import org.apache.spark.sql.types._\n",
    "import org.apache.spark.sql.functions._\n",
    "import org.apache.spark.ml.feature._\n",
    "import org.apache.spark.ml.classification._\n",
    "import org.apache.spark.ml.Pipeline\n",
    "import org.apache.spark.ml.tuning._\n",
    "import org.apache.spark.ml.evaluation._\n",
    "import org.apache.spark.ml.linalg.Vector\n",
    "import org.apache.spark.sql.Row"
   ]
  },
  {
   "cell_type": "code",
   "execution_count": 3,
   "metadata": {
    "ExecuteTime": {
     "end_time": "2020-11-08T23:26:36.238212Z",
     "start_time": "2020-11-08T23:26:32.646098Z"
    }
   },
   "outputs": [
    {
     "name": "stdout",
     "output_type": "stream",
     "text": [
      "+------------+--------+------------+---------------------------------------------------+------+----+----------------+----------------+----------------+-------+------------+--------+\n",
      "|passenger_id|survived|ticket_class|name                                               |sex   |age |siblings_spouses|parents_children|ticket          |fare   |cabin_number|embarked|\n",
      "+------------+--------+------------+---------------------------------------------------+------+----+----------------+----------------+----------------+-------+------------+--------+\n",
      "|1           |0       |3           |Braund, Mr. Owen Harris                            |male  |22.0|1               |0               |A/5 21171       |7.25   |null        |S       |\n",
      "|2           |1       |1           |Cumings, Mrs. John Bradley (Florence Briggs Thayer)|female|38.0|1               |0               |PC 17599        |71.2833|C85         |C       |\n",
      "|3           |1       |3           |Heikkinen, Miss. Laina                             |female|26.0|0               |0               |STON/O2. 3101282|7.925  |null        |S       |\n",
      "|4           |1       |1           |Futrelle, Mrs. Jacques Heath (Lily May Peel)       |female|35.0|1               |0               |113803          |53.1   |C123        |S       |\n",
      "|5           |0       |3           |Allen, Mr. William Henry                           |male  |35.0|0               |0               |373450          |8.05   |null        |S       |\n",
      "|6           |0       |3           |Moran, Mr. James                                   |male  |null|0               |0               |330877          |8.4583 |null        |Q       |\n",
      "|7           |0       |1           |McCarthy, Mr. Timothy J                            |male  |54.0|0               |0               |17463           |51.8625|E46         |S       |\n",
      "|8           |0       |3           |Palsson, Master. Gosta Leonard                     |male  |2.0 |3               |1               |349909          |21.075 |null        |S       |\n",
      "|9           |1       |3           |Johnson, Mrs. Oscar W (Elisabeth Vilhelmina Berg)  |female|27.0|0               |2               |347742          |11.1333|null        |S       |\n",
      "|10          |1       |2           |Nasser, Mrs. Nicholas (Adele Achem)                |female|14.0|1               |0               |237736          |30.0708|null        |C       |\n",
      "+------------+--------+------------+---------------------------------------------------+------+----+----------------+----------------+----------------+-------+------------+--------+\n",
      "only showing top 10 rows\n",
      "\n"
     ]
    },
    {
     "data": {
      "text/plain": [
       "schema: org.apache.spark.sql.types.StructType = StructType(StructField(passenger_id,IntegerType,true), StructField(survived,IntegerType,true), StructField(ticket_class,IntegerType,true), StructField(name,StringType,true), StructField(sex,StringType,true), StructField(age,DoubleType,true), StructField(siblings_spouses,IntegerType,true), StructField(parents_children,IntegerType,true), StructField(ticket,StringType,true), StructField(fare,DoubleType,true), StructField(cabin_number,StringType,true), StructField(embarked,StringType,true))\n",
       "raw: org.apache.spark.sql.DataFrame = [passenger_id: int, survived: int ... 10 more fields]\n"
      ]
     },
     "execution_count": 3,
     "metadata": {},
     "output_type": "execute_result"
    }
   ],
   "source": [
    "val schema = StructType(Array(\n",
    "    StructField(\"passenger_id\", IntegerType, true),\n",
    "    StructField(\"survived\", IntegerType, true),\n",
    "    StructField(\"ticket_class\", IntegerType, true),\n",
    "    StructField(\"name\", StringType, true),\n",
    "    StructField(\"sex\", StringType, true),\n",
    "    StructField(\"age\", DoubleType, true),\n",
    "    StructField(\"siblings_spouses\", IntegerType, true),\n",
    "    StructField(\"parents_children\", IntegerType, true),\n",
    "    StructField(\"ticket\", StringType, true),\n",
    "    StructField(\"fare\", DoubleType, true),\n",
    "    StructField(\"cabin_number\", StringType, true),\n",
    "    StructField(\"embarked\", StringType, true)\n",
    "))\n",
    "\n",
    "val raw = spark.read.format(\"csv\")\n",
    "    .option(\"header\",\"true\")\n",
    "    .option(\"inferSchema\",\"true\")\n",
    "    .schema(schema)\n",
    "    .load(\"titanic.csv\")\n",
    "\n",
    "raw.show(10, false)"
   ]
  },
  {
   "cell_type": "code",
   "execution_count": 4,
   "metadata": {
    "ExecuteTime": {
     "end_time": "2020-11-08T23:26:37.353694Z",
     "start_time": "2020-11-08T23:26:36.242594Z"
    }
   },
   "outputs": [
    {
     "name": "stdout",
     "output_type": "stream",
     "text": [
      "+-------------------------------------------------------+------------+----+----+---------+-------+--------+--------+\n",
      "|name                                                   |ticket_class|male|age |hasFamily|fare   |embarked|survived|\n",
      "+-------------------------------------------------------+------------+----+----+---------+-------+--------+--------+\n",
      "|Braund, Mr. Owen Harris                                |3           |1   |22.0|1        |7.25   |S       |0       |\n",
      "|Cumings, Mrs. John Bradley (Florence Briggs Thayer)    |1           |0   |38.0|1        |71.2833|C       |1       |\n",
      "|Heikkinen, Miss. Laina                                 |3           |0   |26.0|0        |7.925  |S       |1       |\n",
      "|Futrelle, Mrs. Jacques Heath (Lily May Peel)           |1           |0   |35.0|1        |53.1   |S       |1       |\n",
      "|Allen, Mr. William Henry                               |3           |1   |35.0|0        |8.05   |S       |0       |\n",
      "|McCarthy, Mr. Timothy J                                |1           |1   |54.0|0        |51.8625|S       |0       |\n",
      "|Palsson, Master. Gosta Leonard                         |3           |1   |2.0 |1        |21.075 |S       |0       |\n",
      "|Johnson, Mrs. Oscar W (Elisabeth Vilhelmina Berg)      |3           |0   |27.0|1        |11.1333|S       |1       |\n",
      "|Nasser, Mrs. Nicholas (Adele Achem)                    |2           |0   |14.0|1        |30.0708|C       |1       |\n",
      "|Sandstrom, Miss. Marguerite Rut                        |3           |0   |4.0 |1        |16.7   |S       |1       |\n",
      "|Bonnell, Miss. Elizabeth                               |1           |0   |58.0|0        |26.55  |S       |1       |\n",
      "|Saundercock, Mr. William Henry                         |3           |1   |20.0|0        |8.05   |S       |0       |\n",
      "|Andersson, Mr. Anders Johan                            |3           |1   |39.0|1        |31.275 |S       |0       |\n",
      "|Vestrom, Miss. Hulda Amanda Adolfina                   |3           |0   |14.0|0        |7.8542 |S       |0       |\n",
      "|Hewlett, Mrs. (Mary D Kingcome)                        |2           |0   |55.0|0        |16.0   |S       |1       |\n",
      "|Rice, Master. Eugene                                   |3           |1   |2.0 |1        |29.125 |Q       |0       |\n",
      "|Vander Planke, Mrs. Julius (Emelia Maria Vandemoortele)|3           |0   |31.0|1        |18.0   |S       |0       |\n",
      "|Fynney, Mr. Joseph J                                   |2           |1   |35.0|0        |26.0   |S       |0       |\n",
      "|Beesley, Mr. Lawrence                                  |2           |1   |34.0|0        |13.0   |S       |1       |\n",
      "|\"McGowan, Miss. Anna \"\"Annie\"\"\"                        |3           |0   |15.0|0        |8.0292 |Q       |1       |\n",
      "+-------------------------------------------------------+------------+----+----+---------+-------+--------+--------+\n",
      "only showing top 20 rows\n",
      "\n"
     ]
    },
    {
     "data": {
      "text/plain": [
       "data: org.apache.spark.sql.DataFrame = [name: string, ticket_class: int ... 6 more fields]\n"
      ]
     },
     "execution_count": 4,
     "metadata": {},
     "output_type": "execute_result"
    }
   ],
   "source": [
    "val data = raw.select(\"name\",\"ticket_class\",\"sex\",\"age\",\"siblings_spouses\",\"parents_children\",\"ticket\",\"fare\",\"cabin_number\",\"embarked\",\"survived\")\n",
    "    .withColumn(\"male\",when($\"sex\" === \"male\",1).otherwise(0))\n",
    "    .withColumn(\"hasFamily\", when($\"siblings_spouses\" > 0 || $\"parents_children\" > 0,1).otherwise(0))\n",
    "    .where($\"embarked\".isNotNull)\n",
    "    .where($\"age\".isNotNull)\n",
    "    .select(\"name\",\"ticket_class\",\"male\",\"age\",\"hasFamily\",\"fare\",\"embarked\",\"survived\")\n",
    "\n",
    "data.show(false)"
   ]
  },
  {
   "cell_type": "code",
   "execution_count": 5,
   "metadata": {
    "ExecuteTime": {
     "end_time": "2020-11-08T23:26:40.731155Z",
     "start_time": "2020-11-08T23:26:37.361213Z"
    }
   },
   "outputs": [
    {
     "data": {
      "text/plain": [
       "import org.apache.spark.mllib.tree.DecisionTree\n",
       "features: Array[String] = Array(ticket_class, male, age, hasFamily, fare, embarked_index)\n",
       "label: String = survived\n",
       "si: org.apache.spark.ml.feature.StringIndexer = strIdx_c3bfa332ccee\n",
       "ve: org.apache.spark.ml.feature.VectorAssembler = VectorAssembler: uid=vecAssembler_f843be8ddf05, handleInvalid=error, numInputCols=6\n",
       "dt: org.apache.spark.ml.classification.DecisionTreeClassifier = dtc_1b01743921d9\n",
       "pl: org.apache.spark.ml.Pipeline = pipeline_7b683ba90725\n",
       "model: org.apache.spark.ml.PipelineModel = pipeline_7b683ba90725\n"
      ]
     },
     "execution_count": 5,
     "metadata": {},
     "output_type": "execute_result"
    }
   ],
   "source": [
    "import org.apache.spark.mllib.tree.DecisionTree\n",
    "\n",
    "val features = Array(\"ticket_class\", \"male\",\"age\",\"hasFamily\",\"fare\",\"embarked_index\")\n",
    "val label = \"survived\"\n",
    "\n",
    "val si = new StringIndexer()\n",
    "    .setInputCol(\"embarked\")\n",
    "    .setOutputCol(\"embarked_index\")\n",
    "\n",
    "val ve = new VectorAssembler()\n",
    "    .setInputCols(features)\n",
    "    .setOutputCol(\"features\")\n",
    "\n",
    "val dt = new DecisionTreeClassifier()\n",
    "    .setFeaturesCol(\"features\")\n",
    "    .setLabelCol(\"survived\")\n",
    "    .setMaxDepth(4)\n",
    "\n",
    "\n",
    "val pl = new Pipeline()\n",
    "    .setStages(Array(si,ve,dt))\n",
    "    \n",
    "val model = pl.fit(data)"
   ]
  },
  {
   "cell_type": "code",
   "execution_count": 6,
   "metadata": {
    "ExecuteTime": {
     "end_time": "2020-11-08T23:26:41.126095Z",
     "start_time": "2020-11-08T23:26:40.733457Z"
    }
   },
   "outputs": [
    {
     "name": "stdout",
     "output_type": "stream",
     "text": [
      "DecisionTreeClassificationModel: uid=dtc_1b01743921d9, depth=4, numNodes=23, numClasses=2, numFeatures=6\n",
      "  If (feature 1 <= 0.5)\n",
      "   If (feature 0 <= 2.5)\n",
      "    If (feature 2 <= 2.5)\n",
      "     If (feature 0 <= 1.5)\n",
      "      Predict: 0.0\n",
      "     Else (feature 0 > 1.5)\n",
      "      Predict: 1.0\n",
      "    Else (feature 2 > 2.5)\n",
      "     Predict: 1.0\n",
      "   Else (feature 0 > 2.5)\n",
      "    If (feature 4 <= 20.7875)\n",
      "     If (feature 2 <= 17.5)\n",
      "      Predict: 1.0\n",
      "     Else (feature 2 > 17.5)\n",
      "      Predict: 0.0\n",
      "    Else (feature 4 > 20.7875)\n",
      "     Predict: 0.0\n",
      "  Else (feature 1 > 0.5)\n",
      "   If (feature 2 <= 5.5)\n",
      "    If (feature 0 <= 2.5)\n",
      "     Predict: 1.0\n",
      "    Else (feature 0 > 2.5)\n",
      "     If (feature 4 <= 20.7875)\n",
      "      Predict: 1.0\n",
      "     Else (feature 4 > 20.7875)\n",
      "      Predict: 0.0\n",
      "   Else (feature 2 > 5.5)\n",
      "    If (feature 0 <= 1.5)\n",
      "     If (feature 2 <= 36.25)\n",
      "      Predict: 1.0\n",
      "     Else (feature 2 > 36.25)\n",
      "      Predict: 0.0\n",
      "    Else (feature 0 > 1.5)\n",
      "     Predict: 0.0\n",
      "\n"
     ]
    },
    {
     "data": {
      "text/plain": [
       "dtcm: org.apache.spark.ml.classification.DecisionTreeClassificationModel = DecisionTreeClassificationModel: uid=dtc_1b01743921d9, depth=4, numNodes=23, numClasses=2, numFeatures=6\n"
      ]
     },
     "execution_count": 6,
     "metadata": {},
     "output_type": "execute_result"
    }
   ],
   "source": [
    "val dtcm = model.stages(2).asInstanceOf[DecisionTreeClassificationModel]\n",
    "println(dtcm.toDebugString)"
   ]
  },
  {
   "cell_type": "code",
   "execution_count": 7,
   "metadata": {
    "ExecuteTime": {
     "end_time": "2020-11-08T23:26:41.430392Z",
     "start_time": "2020-11-08T23:26:41.128429Z"
    }
   },
   "outputs": [
    {
     "name": "stdout",
     "output_type": "stream",
     "text": [
      "DecisionTreeClassificationModel: uid=dtc_1b01743921d9, depth=4, numNodes=23, numClasses=2, numFeatures=6\n",
      "  If (male <= 0.5)\n",
      "   If (ticket_class <= 2.5)\n",
      "    If (age <= 2.5)\n",
      "     If (ticket_class <= 1.5)\n",
      "      Predict: 0.0\n",
      "     Else (ticket_class > 1.5)\n",
      "      Predict: 1.0\n",
      "    Else (age > 2.5)\n",
      "     Predict: 1.0\n",
      "   Else (ticket_class > 2.5)\n",
      "    If (fare <= 20.7875)\n",
      "     If (age <= 17.5)\n",
      "      Predict: 1.0\n",
      "     Else (age > 17.5)\n",
      "      Predict: 0.0\n",
      "    Else (fare > 20.7875)\n",
      "     Predict: 0.0\n",
      "  Else (male > 0.5)\n",
      "   If (age <= 5.5)\n",
      "    If (ticket_class <= 2.5)\n",
      "     Predict: 1.0\n",
      "    Else (ticket_class > 2.5)\n",
      "     If (fare <= 20.7875)\n",
      "      Predict: 1.0\n",
      "     Else (fare > 20.7875)\n",
      "      Predict: 0.0\n",
      "   Else (age > 5.5)\n",
      "    If (ticket_class <= 1.5)\n",
      "     If (age <= 36.25)\n",
      "      Predict: 1.0\n",
      "     Else (age > 36.25)\n",
      "      Predict: 0.0\n",
      "    Else (ticket_class > 1.5)\n",
      "     Predict: 0.0\n",
      "\n"
     ]
    },
    {
     "data": {
      "text/plain": [
       "tree: String =\n",
       "\"DecisionTreeClassificationModel: uid=dtc_1b01743921d9, depth=4, numNodes=23, numClasses=2, numFeatures=6\n",
       "  If (male <= 0.5)\n",
       "   If (ticket_class <= 2.5)\n",
       "    If (age <= 2.5)\n",
       "     If (ticket_class <= 1.5)\n",
       "      Predict: 0.0\n",
       "     Else (ticket_class > 1.5)\n",
       "      Predict: 1.0\n",
       "    Else (age > 2.5)\n",
       "     Predict: 1.0\n",
       "   Else (ticket_class > 2.5)\n",
       "    If (fare <= 20.7875)\n",
       "     If (age <= 17.5)\n",
       "      Predict: 1.0\n",
       "     Else (age > 17.5)\n",
       "      Predict: 0.0\n",
       "    Else (fare > 20.7875)\n",
       "     Predict: 0.0\n",
       "  Else (male > 0.5)\n",
       "   If (age <= 5.5)\n",
       "    If (ticket_class <= 2.5)\n",
       "     Predict: 1.0\n",
       "    Else (ticket_class > 2.5)\n",
       "     If (fare <= 20.7875)\n",
       "      Predict: 1.0\n",
       "     Else (fare > 20.7875)\n",
       "      Predict: 0.0\n",
       "   Else (age > 5.5)\n",
       "    If (ticket_class <= 1.5)\n",
       "     If (age <= 36.25)\n",
       "      Predi...\n"
      ]
     },
     "execution_count": 7,
     "metadata": {},
     "output_type": "execute_result"
    }
   ],
   "source": [
    "val tree = dtcm.toDebugString\n",
    "    .replaceAll(\"feature 0\",\"ticket_class\")\n",
    "    .replaceAll(\"feature 1\",\"male\")\n",
    "    .replaceAll(\"feature 2\",\"age\")\n",
    "    .replaceAll(\"feature 3\",\"hasFamily\")\n",
    "    .replaceAll(\"feature 4\",\"fare\")\n",
    "    .replaceAll(\"feature 5\",\"embarked\")\n",
    "\n",
    "println(tree)"
   ]
  },
  {
   "cell_type": "markdown",
   "metadata": {},
   "source": [
    "# Display using Graphviz"
   ]
  },
  {
   "cell_type": "code",
   "execution_count": 8,
   "metadata": {
    "ExecuteTime": {
     "end_time": "2020-11-08T23:26:42.775509Z",
     "start_time": "2020-11-08T23:26:41.433171Z"
    }
   },
   "outputs": [],
   "source": [
    "dtcm.write.overwrite.save(\"model\")\n",
    "spark.read.load(\"model/data\").createOrReplaceTempView(\"model\")"
   ]
  },
  {
   "cell_type": "code",
   "execution_count": 9,
   "metadata": {
    "ExecuteTime": {
     "end_time": "2020-11-08T23:26:43.504659Z",
     "start_time": "2020-11-08T23:26:42.776966Z"
    }
   },
   "outputs": [],
   "source": [
    "%%python\n",
    "model = spark.table(\"model\").toPandas().sort_values(\"id\",ignore_index=True)"
   ]
  },
  {
   "cell_type": "code",
   "execution_count": 10,
   "metadata": {
    "ExecuteTime": {
     "end_time": "2020-11-08T23:26:43.578061Z",
     "start_time": "2020-11-08T23:26:43.506491Z"
    }
   },
   "outputs": [
    {
     "data": {
      "text/html": [
       "<div>\n",
       "<style scoped>\n",
       "    .dataframe tbody tr th:only-of-type {\n",
       "        vertical-align: middle;\n",
       "    }\n",
       "\n",
       "    .dataframe tbody tr th {\n",
       "        vertical-align: top;\n",
       "    }\n",
       "\n",
       "    .dataframe thead th {\n",
       "        text-align: right;\n",
       "    }\n",
       "</style>\n",
       "<table border=\"1\" class=\"dataframe\">\n",
       "  <thead>\n",
       "    <tr style=\"text-align: right;\">\n",
       "      <th></th>\n",
       "      <th>id</th>\n",
       "      <th>prediction</th>\n",
       "      <th>impurity</th>\n",
       "      <th>impurityStats</th>\n",
       "      <th>rawCount</th>\n",
       "      <th>gain</th>\n",
       "      <th>leftChild</th>\n",
       "      <th>rightChild</th>\n",
       "      <th>split</th>\n",
       "    </tr>\n",
       "  </thead>\n",
       "  <tbody>\n",
       "    <tr>\n",
       "      <th>0</th>\n",
       "      <td>0</td>\n",
       "      <td>0.0</td>\n",
       "      <td>0.481757</td>\n",
       "      <td>[424.0, 288.0]</td>\n",
       "      <td>712</td>\n",
       "      <td>0.138801</td>\n",
       "      <td>1</td>\n",
       "      <td>12</td>\n",
       "      <td>(1, [0.5], -1)</td>\n",
       "    </tr>\n",
       "    <tr>\n",
       "      <th>1</th>\n",
       "      <td>1</td>\n",
       "      <td>1.0</td>\n",
       "      <td>0.372087</td>\n",
       "      <td>[64.0, 195.0]</td>\n",
       "      <td>259</td>\n",
       "      <td>0.110873</td>\n",
       "      <td>2</td>\n",
       "      <td>7</td>\n",
       "      <td>(0, [2.5], -1)</td>\n",
       "    </tr>\n",
       "    <tr>\n",
       "      <th>2</th>\n",
       "      <td>2</td>\n",
       "      <td>1.0</td>\n",
       "      <td>0.108077</td>\n",
       "      <td>[9.0, 148.0]</td>\n",
       "      <td>157</td>\n",
       "      <td>0.005057</td>\n",
       "      <td>3</td>\n",
       "      <td>6</td>\n",
       "      <td>(2, [2.5], -1)</td>\n",
       "    </tr>\n",
       "    <tr>\n",
       "      <th>3</th>\n",
       "      <td>3</td>\n",
       "      <td>0.0</td>\n",
       "      <td>0.500000</td>\n",
       "      <td>[1.0, 1.0]</td>\n",
       "      <td>2</td>\n",
       "      <td>0.500000</td>\n",
       "      <td>4</td>\n",
       "      <td>5</td>\n",
       "      <td>(0, [1.5], -1)</td>\n",
       "    </tr>\n",
       "    <tr>\n",
       "      <th>4</th>\n",
       "      <td>4</td>\n",
       "      <td>0.0</td>\n",
       "      <td>0.000000</td>\n",
       "      <td>[1.0, 0.0]</td>\n",
       "      <td>1</td>\n",
       "      <td>-1.000000</td>\n",
       "      <td>-1</td>\n",
       "      <td>-1</td>\n",
       "      <td>(-1, [], -1)</td>\n",
       "    </tr>\n",
       "    <tr>\n",
       "      <th>5</th>\n",
       "      <td>5</td>\n",
       "      <td>1.0</td>\n",
       "      <td>0.000000</td>\n",
       "      <td>[0.0, 1.0]</td>\n",
       "      <td>1</td>\n",
       "      <td>-1.000000</td>\n",
       "      <td>-1</td>\n",
       "      <td>-1</td>\n",
       "      <td>(-1, [], -1)</td>\n",
       "    </tr>\n",
       "    <tr>\n",
       "      <th>6</th>\n",
       "      <td>6</td>\n",
       "      <td>1.0</td>\n",
       "      <td>0.097898</td>\n",
       "      <td>[8.0, 147.0]</td>\n",
       "      <td>155</td>\n",
       "      <td>-1.000000</td>\n",
       "      <td>-1</td>\n",
       "      <td>-1</td>\n",
       "      <td>(-1, [], -1)</td>\n",
       "    </tr>\n",
       "    <tr>\n",
       "      <th>7</th>\n",
       "      <td>7</td>\n",
       "      <td>0.0</td>\n",
       "      <td>0.496924</td>\n",
       "      <td>[55.0, 47.0]</td>\n",
       "      <td>102</td>\n",
       "      <td>0.063545</td>\n",
       "      <td>8</td>\n",
       "      <td>11</td>\n",
       "      <td>(4, [20.7875], -1)</td>\n",
       "    </tr>\n",
       "    <tr>\n",
       "      <th>8</th>\n",
       "      <td>8</td>\n",
       "      <td>1.0</td>\n",
       "      <td>0.493511</td>\n",
       "      <td>[35.0, 44.0]</td>\n",
       "      <td>79</td>\n",
       "      <td>0.035937</td>\n",
       "      <td>9</td>\n",
       "      <td>10</td>\n",
       "      <td>(2, [17.5], -1)</td>\n",
       "    </tr>\n",
       "    <tr>\n",
       "      <th>9</th>\n",
       "      <td>9</td>\n",
       "      <td>1.0</td>\n",
       "      <td>0.351240</td>\n",
       "      <td>[5.0, 17.0]</td>\n",
       "      <td>22</td>\n",
       "      <td>-1.000000</td>\n",
       "      <td>-1</td>\n",
       "      <td>-1</td>\n",
       "      <td>(-1, [], -1)</td>\n",
       "    </tr>\n",
       "    <tr>\n",
       "      <th>10</th>\n",
       "      <td>10</td>\n",
       "      <td>0.0</td>\n",
       "      <td>0.498615</td>\n",
       "      <td>[30.0, 27.0]</td>\n",
       "      <td>57</td>\n",
       "      <td>-1.000000</td>\n",
       "      <td>-1</td>\n",
       "      <td>-1</td>\n",
       "      <td>(-1, [], -1)</td>\n",
       "    </tr>\n",
       "    <tr>\n",
       "      <th>11</th>\n",
       "      <td>11</td>\n",
       "      <td>0.0</td>\n",
       "      <td>0.226843</td>\n",
       "      <td>[20.0, 3.0]</td>\n",
       "      <td>23</td>\n",
       "      <td>-1.000000</td>\n",
       "      <td>-1</td>\n",
       "      <td>-1</td>\n",
       "      <td>(-1, [], -1)</td>\n",
       "    </tr>\n",
       "    <tr>\n",
       "      <th>12</th>\n",
       "      <td>12</td>\n",
       "      <td>0.0</td>\n",
       "      <td>0.326301</td>\n",
       "      <td>[360.0, 93.0]</td>\n",
       "      <td>453</td>\n",
       "      <td>0.021363</td>\n",
       "      <td>13</td>\n",
       "      <td>18</td>\n",
       "      <td>(2, [5.5], -1)</td>\n",
       "    </tr>\n",
       "    <tr>\n",
       "      <th>13</th>\n",
       "      <td>13</td>\n",
       "      <td>1.0</td>\n",
       "      <td>0.453686</td>\n",
       "      <td>[8.0, 15.0]</td>\n",
       "      <td>23</td>\n",
       "      <td>0.186128</td>\n",
       "      <td>14</td>\n",
       "      <td>15</td>\n",
       "      <td>(0, [2.5], -1)</td>\n",
       "    </tr>\n",
       "    <tr>\n",
       "      <th>14</th>\n",
       "      <td>14</td>\n",
       "      <td>1.0</td>\n",
       "      <td>0.000000</td>\n",
       "      <td>[0.0, 10.0]</td>\n",
       "      <td>10</td>\n",
       "      <td>-1.000000</td>\n",
       "      <td>-1</td>\n",
       "      <td>-1</td>\n",
       "      <td>(-1, [], -1)</td>\n",
       "    </tr>\n",
       "    <tr>\n",
       "      <th>15</th>\n",
       "      <td>15</td>\n",
       "      <td>0.0</td>\n",
       "      <td>0.473373</td>\n",
       "      <td>[8.0, 5.0]</td>\n",
       "      <td>13</td>\n",
       "      <td>0.336621</td>\n",
       "      <td>16</td>\n",
       "      <td>17</td>\n",
       "      <td>(4, [20.7875], -1)</td>\n",
       "    </tr>\n",
       "    <tr>\n",
       "      <th>16</th>\n",
       "      <td>16</td>\n",
       "      <td>1.0</td>\n",
       "      <td>0.000000</td>\n",
       "      <td>[0.0, 4.0]</td>\n",
       "      <td>4</td>\n",
       "      <td>-1.000000</td>\n",
       "      <td>-1</td>\n",
       "      <td>-1</td>\n",
       "      <td>(-1, [], -1)</td>\n",
       "    </tr>\n",
       "    <tr>\n",
       "      <th>17</th>\n",
       "      <td>17</td>\n",
       "      <td>0.0</td>\n",
       "      <td>0.197531</td>\n",
       "      <td>[8.0, 1.0]</td>\n",
       "      <td>9</td>\n",
       "      <td>-1.000000</td>\n",
       "      <td>-1</td>\n",
       "      <td>-1</td>\n",
       "      <td>(-1, [], -1)</td>\n",
       "    </tr>\n",
       "    <tr>\n",
       "      <th>18</th>\n",
       "      <td>18</td>\n",
       "      <td>0.0</td>\n",
       "      <td>0.296982</td>\n",
       "      <td>[352.0, 78.0]</td>\n",
       "      <td>430</td>\n",
       "      <td>0.024516</td>\n",
       "      <td>19</td>\n",
       "      <td>22</td>\n",
       "      <td>(0, [1.5], -1)</td>\n",
       "    </tr>\n",
       "    <tr>\n",
       "      <th>19</th>\n",
       "      <td>19</td>\n",
       "      <td>0.0</td>\n",
       "      <td>0.473013</td>\n",
       "      <td>[61.0, 38.0]</td>\n",
       "      <td>99</td>\n",
       "      <td>0.031081</td>\n",
       "      <td>20</td>\n",
       "      <td>21</td>\n",
       "      <td>(2, [36.25], -1)</td>\n",
       "    </tr>\n",
       "    <tr>\n",
       "      <th>20</th>\n",
       "      <td>20</td>\n",
       "      <td>1.0</td>\n",
       "      <td>0.497041</td>\n",
       "      <td>[18.0, 21.0]</td>\n",
       "      <td>39</td>\n",
       "      <td>-1.000000</td>\n",
       "      <td>-1</td>\n",
       "      <td>-1</td>\n",
       "      <td>(-1, [], -1)</td>\n",
       "    </tr>\n",
       "    <tr>\n",
       "      <th>21</th>\n",
       "      <td>21</td>\n",
       "      <td>0.0</td>\n",
       "      <td>0.406111</td>\n",
       "      <td>[43.0, 17.0]</td>\n",
       "      <td>60</td>\n",
       "      <td>-1.000000</td>\n",
       "      <td>-1</td>\n",
       "      <td>-1</td>\n",
       "      <td>(-1, [], -1)</td>\n",
       "    </tr>\n",
       "    <tr>\n",
       "      <th>22</th>\n",
       "      <td>22</td>\n",
       "      <td>0.0</td>\n",
       "      <td>0.212484</td>\n",
       "      <td>[291.0, 40.0]</td>\n",
       "      <td>331</td>\n",
       "      <td>-1.000000</td>\n",
       "      <td>-1</td>\n",
       "      <td>-1</td>\n",
       "      <td>(-1, [], -1)</td>\n",
       "    </tr>\n",
       "  </tbody>\n",
       "</table>\n",
       "</div>"
      ],
      "text/plain": [
       "    id  prediction  impurity   impurityStats  rawCount      gain  leftChild  rightChild               split\n",
       "0    0         0.0  0.481757  [424.0, 288.0]       712  0.138801          1          12      (1, [0.5], -1)\n",
       "1    1         1.0  0.372087   [64.0, 195.0]       259  0.110873          2           7      (0, [2.5], -1)\n",
       "2    2         1.0  0.108077    [9.0, 148.0]       157  0.005057          3           6      (2, [2.5], -1)\n",
       "3    3         0.0  0.500000      [1.0, 1.0]         2  0.500000          4           5      (0, [1.5], -1)\n",
       "4    4         0.0  0.000000      [1.0, 0.0]         1 -1.000000         -1          -1        (-1, [], -1)\n",
       "5    5         1.0  0.000000      [0.0, 1.0]         1 -1.000000         -1          -1        (-1, [], -1)\n",
       "6    6         1.0  0.097898    [8.0, 147.0]       155 -1.000000         -1          -1        (-1, [], -1)\n",
       "7    7         0.0  0.496924    [55.0, 47.0]       102  0.063545          8          11  (4, [20.7875], -1)\n",
       "8    8         1.0  0.493511    [35.0, 44.0]        79  0.035937          9          10     (2, [17.5], -1)\n",
       "9    9         1.0  0.351240     [5.0, 17.0]        22 -1.000000         -1          -1        (-1, [], -1)\n",
       "10  10         0.0  0.498615    [30.0, 27.0]        57 -1.000000         -1          -1        (-1, [], -1)\n",
       "11  11         0.0  0.226843     [20.0, 3.0]        23 -1.000000         -1          -1        (-1, [], -1)\n",
       "12  12         0.0  0.326301   [360.0, 93.0]       453  0.021363         13          18      (2, [5.5], -1)\n",
       "13  13         1.0  0.453686     [8.0, 15.0]        23  0.186128         14          15      (0, [2.5], -1)\n",
       "14  14         1.0  0.000000     [0.0, 10.0]        10 -1.000000         -1          -1        (-1, [], -1)\n",
       "15  15         0.0  0.473373      [8.0, 5.0]        13  0.336621         16          17  (4, [20.7875], -1)\n",
       "16  16         1.0  0.000000      [0.0, 4.0]         4 -1.000000         -1          -1        (-1, [], -1)\n",
       "17  17         0.0  0.197531      [8.0, 1.0]         9 -1.000000         -1          -1        (-1, [], -1)\n",
       "18  18         0.0  0.296982   [352.0, 78.0]       430  0.024516         19          22      (0, [1.5], -1)\n",
       "19  19         0.0  0.473013    [61.0, 38.0]        99  0.031081         20          21    (2, [36.25], -1)\n",
       "20  20         1.0  0.497041    [18.0, 21.0]        39 -1.000000         -1          -1        (-1, [], -1)\n",
       "21  21         0.0  0.406111    [43.0, 17.0]        60 -1.000000         -1          -1        (-1, [], -1)\n",
       "22  22         0.0  0.212484   [291.0, 40.0]       331 -1.000000         -1          -1        (-1, [], -1)"
      ]
     },
     "execution_count": 10,
     "metadata": {},
     "output_type": "execute_result"
    }
   ],
   "source": [
    "%%python\n",
    "model"
   ]
  },
  {
   "cell_type": "markdown",
   "metadata": {
    "ExecuteTime": {
     "end_time": "2020-11-08T15:24:21.075857Z",
     "start_time": "2020-11-08T15:24:21.015968Z"
    }
   },
   "source": [
    "## Display DesicionTree  "
   ]
  },
  {
   "cell_type": "code",
   "execution_count": 11,
   "metadata": {
    "ExecuteTime": {
     "end_time": "2020-11-08T23:26:43.692726Z",
     "start_time": "2020-11-08T23:26:43.579949Z"
    }
   },
   "outputs": [],
   "source": [
    "%%python\n",
    "\n",
    "from graphviz import Graph\n",
    "from graphviz import Digraph\n",
    "\n",
    "features = [\"ticket_class\",\"male\",\"age\",\"hasFamily\",\"fare\",\"embarked\"]\n",
    "\n",
    "g = Digraph(format='png')\n",
    "\n",
    "# creating nodes\n",
    "for index, row in model.iterrows():\n",
    "    label = \"\"\n",
    "    if row[\"split\"][\"featureIndex\"] >= 0:\n",
    "        label = features[row[\"split\"][\"featureIndex\"]] + \">\" + str(row[\"split\"][\"leftCategoriesOrThreshold\"][0] )\n",
    "    else:\n",
    "        label = \"died\"\n",
    "        if row[\"prediction\"] == 1:\n",
    "            label = \"survived\"\n",
    "        \n",
    "    g.node(str(row[\"id\"]), label=label)\n",
    "\n",
    "## creating edges\n",
    "for index, row in model.iterrows():\n",
    "    if row['leftChild'] >= 0:\n",
    "        g.edge(str(row[\"id\"]), str(row['leftChild']),label=\"no\")\n",
    "    if row['rightChild'] >= 0:\n",
    "        g.edge(str(row[\"id\"]), str(row['rightChild']),label=\"yes\")\n",
    "\n",
    "g.render('decisiontree_simple')"
   ]
  },
  {
   "cell_type": "markdown",
   "metadata": {},
   "source": [
    "![Test Image 1](decisiontree_simple.png)"
   ]
  },
  {
   "cell_type": "markdown",
   "metadata": {},
   "source": [
    "# Display DesicionTree with Impurities"
   ]
  },
  {
   "cell_type": "code",
   "execution_count": 12,
   "metadata": {
    "ExecuteTime": {
     "end_time": "2020-11-08T23:26:43.812678Z",
     "start_time": "2020-11-08T23:26:43.695391Z"
    }
   },
   "outputs": [],
   "source": [
    "%%python\n",
    "\n",
    "from graphviz import Graph\n",
    "from graphviz import Digraph\n",
    "\n",
    "features = [\"ticket_class\",\"male\",\"age\",\"hasFamily\",\"fare\",\"embarked\"]\n",
    "\n",
    "g = Digraph(format='png')\n",
    "\n",
    "# creating nodes\n",
    "for index, row in model.iterrows():\n",
    "    label = \"\"\n",
    "    shape = 'rectangle'\n",
    "    if row[\"split\"][\"featureIndex\"] >= 0:\n",
    "        featureName = str(features[row[\"split\"][\"featureIndex\"]])\n",
    "        leftThreshold = str(row[\"split\"][\"leftCategoriesOrThreshold\"][0]) \n",
    "        impurity = str(row[\"impurity\"])\n",
    "        gain = str(row[\"gain\"])\n",
    "        label = \"%s > %s\\n Impurity: %s\\n Gain: %s\" \\\n",
    "            % (featureName, leftThreshold, impurity, gain)\n",
    "\n",
    "    else:\n",
    "        label = \"died\"\n",
    "        shape=\"ellipse\"\n",
    "        if row[\"prediction\"] == 1:\n",
    "            label = \"survived\"\n",
    "        \n",
    "    g.node(str(row[\"id\"]), label=label, shape=shape)\n",
    "\n",
    "## creating edges\n",
    "for index, row in model.iterrows():\n",
    "    if row['leftChild'] >= 0:\n",
    "        g.edge(str(row[\"id\"]), str(row['leftChild']),label=\"no\")\n",
    "    if row['rightChild'] >= 0:\n",
    "        g.edge(str(row[\"id\"]), str(row['rightChild']),label=\"yes\")\n",
    "\n",
    "g.render('decisiontree_with_impurities')"
   ]
  },
  {
   "cell_type": "markdown",
   "metadata": {
    "ExecuteTime": {
     "end_time": "2020-11-08T15:29:39.359167Z",
     "start_time": "2020-11-08T15:29:39.201075Z"
    }
   },
   "source": [
    "![Test Image 1](decisiontree_with_impurities.png)"
   ]
  },
  {
   "cell_type": "markdown",
   "metadata": {},
   "source": [
    "# Calculating Impurities"
   ]
  },
  {
   "cell_type": "code",
   "execution_count": 13,
   "metadata": {
    "ExecuteTime": {
     "end_time": "2020-11-08T23:26:45.188778Z",
     "start_time": "2020-11-08T23:26:43.814520Z"
    }
   },
   "outputs": [
    {
     "name": "stdout",
     "output_type": "stream",
     "text": [
      "+--------+----+-----+\n",
      "|survived|male|count|\n",
      "+--------+----+-----+\n",
      "|       1|   0|  195|\n",
      "|       1|   1|   93|\n",
      "|       0|   0|   64|\n",
      "|       0|   1|  360|\n",
      "+--------+----+-----+\n",
      "\n"
     ]
    },
    {
     "data": {
      "text/plain": [
       "male_feature: org.apache.spark.sql.DataFrame = [survived: int, male: int ... 1 more field]\n"
      ]
     },
     "execution_count": 13,
     "metadata": {},
     "output_type": "execute_result"
    }
   ],
   "source": [
    "// Calculating Impurity for male\n",
    "val male_feature = data.select(\"male\",\"survived\")\n",
    "    .groupBy(\"survived\",\"male\").count()\n",
    "\n",
    "male_feature.show()"
   ]
  },
  {
   "cell_type": "code",
   "execution_count": 14,
   "metadata": {
    "ExecuteTime": {
     "end_time": "2020-11-08T23:26:48.011467Z",
     "start_time": "2020-11-08T23:26:45.203187Z"
    }
   },
   "outputs": [
    {
     "name": "stdout",
     "output_type": "stream",
     "text": [
      "+----+----+--------+-----+\n",
      "|male|died|survived|total|\n",
      "+----+----+--------+-----+\n",
      "|   1| 360|      93|  453|\n",
      "|   0|  64|     195|  259|\n",
      "+----+----+--------+-----+\n",
      "\n"
     ]
    },
    {
     "data": {
      "text/plain": [
       "dies_survived: org.apache.spark.sql.DataFrame = [male: int, died: bigint ... 2 more fields]\n"
      ]
     },
     "execution_count": 14,
     "metadata": {},
     "output_type": "execute_result"
    }
   ],
   "source": [
    "val dies_survived = male_feature\n",
    "    .groupBy(\"male\").pivot(\"survived\").sum()\n",
    "    .select($\"male\" ,$\"0_sum(count)\".as(\"died\"),$\"1_sum(count)\".as(\"survived\"))\n",
    "    .withColumn(\"total\",$\"died\"+$\"survived\")\n",
    "dies_survived.show()"
   ]
  },
  {
   "cell_type": "markdown",
   "metadata": {},
   "source": [
    "$$G=\\sum_{j=1}^{C} p(i)*(1-p(i))$$"
   ]
  },
  {
   "cell_type": "code",
   "execution_count": 15,
   "metadata": {
    "ExecuteTime": {
     "end_time": "2020-11-08T23:26:49.551736Z",
     "start_time": "2020-11-08T23:26:48.014336Z"
    }
   },
   "outputs": [
    {
     "name": "stdout",
     "output_type": "stream",
     "text": [
      "+----+--------+-----+------------------+------------------+-------------------+\n",
      "|died|survived|total|                p1|                p2|      gini_impurity|\n",
      "+----+--------+-----+------------------+------------------+-------------------+\n",
      "| 424|     288|  712|0.5955056179775281|0.4044943820224719|0.48175735386946095|\n",
      "+----+--------+-----+------------------+------------------+-------------------+\n",
      "\n"
     ]
    }
   ],
   "source": [
    "// if we use male the gini impurity \n",
    "dies_survived\n",
    "    .agg(sum(\"died\").as(\"died\"),sum(\"survived\").as(\"survived\"),sum(\"total\").as(\"total\"))\n",
    "    .withColumn(\"p1\",$\"died\"/$\"total\")\n",
    "    .withColumn(\"p2\",$\"survived\"/$\"total\")\n",
    "    .withColumn(\"gini_impurity\",$\"p1\"*(lit(1)-$\"p1\") + $\"p2\"*(lit(1)-$\"p2\"))\n",
    "    .show"
   ]
  }
 ],
 "metadata": {
  "kernelspec": {
   "display_name": "spylon-kernel",
   "language": "scala",
   "name": "spylon-kernel"
  },
  "language_info": {
   "codemirror_mode": "text/x-scala",
   "file_extension": ".scala",
   "help_links": [
    {
     "text": "MetaKernel Magics",
     "url": "https://metakernel.readthedocs.io/en/latest/source/README.html"
    }
   ],
   "mimetype": "text/x-scala",
   "name": "scala",
   "pygments_lexer": "scala",
   "version": "0.4.1"
  },
  "varInspector": {
   "cols": {
    "lenName": 16,
    "lenType": 16,
    "lenVar": 40
   },
   "kernels_config": {
    "python": {
     "delete_cmd_postfix": "",
     "delete_cmd_prefix": "del ",
     "library": "var_list.py",
     "varRefreshCmd": "print(var_dic_list())"
    },
    "r": {
     "delete_cmd_postfix": ") ",
     "delete_cmd_prefix": "rm(",
     "library": "var_list.r",
     "varRefreshCmd": "cat(var_dic_list()) "
    }
   },
   "types_to_exclude": [
    "module",
    "function",
    "builtin_function_or_method",
    "instance",
    "_Feature"
   ],
   "window_display": false
  }
 },
 "nbformat": 4,
 "nbformat_minor": 4
}
