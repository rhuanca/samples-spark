{
 "cells": [
  {
   "cell_type": "code",
   "execution_count": 1,
   "metadata": {
    "ExecuteTime": {
     "end_time": "2021-09-23T01:53:44.900163Z",
     "start_time": "2021-09-23T01:53:34.496315Z"
    }
   },
   "outputs": [
    {
     "data": {
      "text/plain": [
       "Intitializing Scala interpreter ..."
      ]
     },
     "metadata": {},
     "output_type": "display_data"
    },
    {
     "data": {
      "text/plain": [
       "Spark Web UI available at http://192.168.2.10:4040\n",
       "SparkContext available as 'sc' (version = 3.1.2, master = local[*], app id = local-1632362017442)\n",
       "SparkSession available as 'spark'\n"
      ]
     },
     "metadata": {},
     "output_type": "display_data"
    },
    {
     "data": {
      "text/plain": [
       "import org.apache.spark.sql.functions._\n",
       "import org.apache.spark.sql.types._\n"
      ]
     },
     "execution_count": 1,
     "metadata": {},
     "output_type": "execute_result"
    }
   ],
   "source": [
    "import org.apache.spark.sql.functions._\n",
    "import org.apache.spark.sql.types._\n",
    " \n",
    "spark.sparkContext.setLogLevel(\"DEBUG\")\n",
    "\n",
    "\n",
    "spark.sparkContext.hadoopConfiguration.set(\"fs.s3a.access.key\", \"minio\")\n",
    "spark.sparkContext.hadoopConfiguration.set(\"fs.s3a.secret.key\", \"miniostorage\")\n",
    "// spark.sparkContext.hadoopConfiguration.set(\"fs.s3a.impl\", \"org.apache.hadoop.fs.s3a.S3AFileSystem\")\n",
    "spark.sparkContext.hadoopConfiguration.set(\"fs.s3a.connection.ssl.enabled\", \"false\");\n",
    "\n",
    "spark.sparkContext.hadoopConfiguration.set(\"fs.s3a.endpoint\", \"http://172.20.0.2:9001\")"
   ]
  },
  {
   "cell_type": "code",
   "execution_count": 2,
   "metadata": {
    "ExecuteTime": {
     "end_time": "2021-09-23T01:54:02.029727Z",
     "start_time": "2021-09-23T01:53:44.902542Z"
    }
   },
   "outputs": [
    {
     "data": {
      "text/plain": [
       "test_write_df: org.apache.spark.sql.DataFrame = [id: string, name: string]\n"
      ]
     },
     "execution_count": 2,
     "metadata": {},
     "output_type": "execute_result"
    }
   ],
   "source": [
    "val test_write_df = Seq(\n",
    "    (\"1\",\"one\"),\n",
    "    (\"2\",\"two\"))\n",
    "    .toDF(\"id\", \"name\")\n",
    "\n",
    "test_write_df.write.format(\"delta\").mode(\"overwrite\").save(\"s3a://testbucket/data1\")"
   ]
  },
  {
   "cell_type": "code",
   "execution_count": 3,
   "metadata": {
    "ExecuteTime": {
     "end_time": "2021-09-23T01:54:03.166064Z",
     "start_time": "2021-09-23T01:54:02.031529Z"
    }
   },
   "outputs": [
    {
     "name": "stdout",
     "output_type": "stream",
     "text": [
      "+---+----+\n",
      "| id|name|\n",
      "+---+----+\n",
      "|  2| two|\n",
      "|  1| one|\n",
      "+---+----+\n",
      "\n"
     ]
    },
    {
     "data": {
      "text/plain": [
       "testread_df: org.apache.spark.sql.DataFrame = [id: string, name: string]\n"
      ]
     },
     "execution_count": 3,
     "metadata": {},
     "output_type": "execute_result"
    }
   ],
   "source": [
    "val testread_df = spark.read.format(\"delta\").load(\"s3a://testbucket/data1\")\n",
    "testread_df.show"
   ]
  },
  {
   "cell_type": "code",
   "execution_count": null,
   "metadata": {},
   "outputs": [],
   "source": []
  },
  {
   "cell_type": "code",
   "execution_count": null,
   "metadata": {},
   "outputs": [],
   "source": []
  },
  {
   "cell_type": "code",
   "execution_count": null,
   "metadata": {},
   "outputs": [],
   "source": []
  }
 ],
 "metadata": {
  "kernelspec": {
   "display_name": "spylon-kernel",
   "language": "scala",
   "name": "spylon-kernel"
  },
  "language_info": {
   "codemirror_mode": "text/x-scala",
   "file_extension": ".scala",
   "help_links": [
    {
     "text": "MetaKernel Magics",
     "url": "https://metakernel.readthedocs.io/en/latest/source/README.html"
    }
   ],
   "mimetype": "text/x-scala",
   "name": "scala",
   "pygments_lexer": "scala",
   "version": "0.4.1"
  },
  "varInspector": {
   "cols": {
    "lenName": 16,
    "lenType": 16,
    "lenVar": 40
   },
   "kernels_config": {
    "python": {
     "delete_cmd_postfix": "",
     "delete_cmd_prefix": "del ",
     "library": "var_list.py",
     "varRefreshCmd": "print(var_dic_list())"
    },
    "r": {
     "delete_cmd_postfix": ") ",
     "delete_cmd_prefix": "rm(",
     "library": "var_list.r",
     "varRefreshCmd": "cat(var_dic_list()) "
    }
   },
   "types_to_exclude": [
    "module",
    "function",
    "builtin_function_or_method",
    "instance",
    "_Feature"
   ],
   "window_display": false
  }
 },
 "nbformat": 4,
 "nbformat_minor": 4
}
